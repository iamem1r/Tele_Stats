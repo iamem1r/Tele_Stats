{
 "cells": [
  {
   "cell_type": "code",
   "execution_count": 5,
   "id": "70911ede-2315-4537-91db-0a740537eeeb",
   "metadata": {},
   "outputs": [],
   "source": [
    "import json\n",
    "import numpy as np\n",
    "from PIL import Image\n",
    "from pathlib import Path\n",
    "from collections import Counter\n",
    "from hazm import word_tokenize, sent_tokenize, Normalizer\n",
    "from wordcloud import WordCloud\n",
    "import arabic_reshaper\n",
    "from bidi.algorithm import get_display"
   ]
  },
  {
   "cell_type": "markdown",
   "id": "6d346f3c-b5b8-4bbd-9ea5-8180337b35d2",
   "metadata": {},
   "source": [
    "### Load JSON data"
   ]
  },
  {
   "cell_type": "code",
   "execution_count": 6,
   "id": "5c259381-8e4c-4203-83b3-3dd0fbff84d8",
   "metadata": {},
   "outputs": [],
   "source": [
    "with open('src/data/CS-Stack.json') as f:\n",
    "    data = json.load(f)"
   ]
  },
  {
   "cell_type": "code",
   "execution_count": 7,
   "id": "21b7d217-ecfb-47fa-9181-44d8d742b658",
   "metadata": {},
   "outputs": [],
   "source": [
    "message = iter(data['messages'])"
   ]
  },
  {
   "cell_type": "code",
   "execution_count": 8,
   "id": "d50bd8cf-3a15-4110-a3d5-c04581d49e58",
   "metadata": {},
   "outputs": [
    {
     "data": {
      "text/plain": [
       "{'id': 1,\n",
       " 'type': 'service',\n",
       " 'date': '2021-07-06T00:16:27',\n",
       " 'actor': 'CS Stackoverflow [IRAN]',\n",
       " 'actor_id': 'channel1564092519',\n",
       " 'action': 'migrate_from_group',\n",
       " 'title': 'CS Stackoverflow [IRAN]',\n",
       " 'text': ''}"
      ]
     },
     "execution_count": 8,
     "metadata": {},
     "output_type": "execute_result"
    }
   ],
   "source": [
    "next(message)"
   ]
  },
  {
   "cell_type": "markdown",
   "id": "a89d1cce-6d93-4155-9f1c-6a817e8fcd26",
   "metadata": {},
   "source": [
    "### Load and normalize stopwords"
   ]
  },
  {
   "cell_type": "code",
   "execution_count": 9,
   "id": "6227b81e-c459-4404-87e7-444968da8c2e",
   "metadata": {},
   "outputs": [],
   "source": [
    "def load_stopwords(file_path: str):\n",
    "    \"\"\"\n",
    "    This function get a directory of stop words file with .txt extension, \n",
    "    then load, readlines and normalize stopwords.\n",
    "    \"\"\"\n",
    "    # load\n",
    "    stopwords = open(file_path).readlines()\n",
    "    \n",
    "    # remove '\\n'\n",
    "    stopwords = list(map(str.strip, stopwords)) \n",
    "    \n",
    "    # normalize stop words\n",
    "    normalizer = Normalizer()\n",
    "    stopwords = list(map(normalizer.normalize, stopwords))\n",
    "    \n",
    "    return stopwords"
   ]
  },
  {
   "cell_type": "code",
   "execution_count": 10,
   "id": "84d2751b-4d7e-4252-9f7b-2b5b917b665b",
   "metadata": {},
   "outputs": [
    {
     "data": {
      "text/plain": [
       "['و', 'در', 'به', 'از', 'که', 'می', 'این', 'است', 'را', 'با']"
      ]
     },
     "execution_count": 10,
     "metadata": {},
     "output_type": "execute_result"
    }
   ],
   "source": [
    "load_stopwords('src/data/stopwords.txt')[:10]"
   ]
  },
  {
   "cell_type": "markdown",
   "id": "9e88f610-a847-4385-92b0-a07cb2983de9",
   "metadata": {},
   "source": [
    "### Stopwords detection"
   ]
  },
  {
   "cell_type": "code",
   "execution_count": 11,
   "id": "5f645231-fb9f-403d-aabe-685aed60f872",
   "metadata": {},
   "outputs": [],
   "source": [
    "def stopwords_detection(text: str, stopwords_file_path: str):\n",
    "    \"\"\"\n",
    "    This function takes a text-string argument,\n",
    "    tokenize text, remove stop words and returns a list of text words.\n",
    "    \"\"\"\n",
    "    stopwords = load_stopwords(stopwords_file_path)\n",
    "    tokens = word_tokenize(text)\n",
    "    return list(filter(lambda item: item not in stopwords, tokens))"
   ]
  },
  {
   "cell_type": "code",
   "execution_count": 12,
   "id": "f40c6713-a21c-42b7-a79b-cddd557b64ce",
   "metadata": {},
   "outputs": [
    {
     "data": {
      "text/plain": [
       "['سلام',\n",
       " 'امیر',\n",
       " 'محمد',\n",
       " 'یمینی',\n",
       " 'هستم',\n",
       " 'بخواهید',\n",
       " 'بدنام',\n",
       " 'مجبورم',\n",
       " 'فایل',\n",
       " 'نصبی',\n",
       " 'تغییر',\n",
       " 'دهم']"
      ]
     },
     "execution_count": 12,
     "metadata": {},
     "output_type": "execute_result"
    }
   ],
   "source": [
    "stopwords_detection(\n",
    "    text='سلام من امیر محمد یمینی هستم. اما اگر بخواهید من را بدنام کنید، مجبورم فایل نصبی را تغییر دهم.',\n",
    "    stopwords_file_path='src/data/stopwords.txt'\n",
    ")"
   ]
  },
  {
   "cell_type": "markdown",
   "id": "cf6c6256-a326-4a0c-bf44-587f8cb19201",
   "metadata": {},
   "source": [
    "### Parse text from json file"
   ]
  },
  {
   "cell_type": "code",
   "execution_count": 13,
   "id": "01dcbc17-663b-4972-8925-b175336ef583",
   "metadata": {},
   "outputs": [],
   "source": [
    "def parse_json(json_file_path: str, stopwords_file_path: str):\n",
    "    \"\"\"\n",
    "    This function takes a telegram chat json file, returns text content without stopwords.\n",
    "    \"\"\"\n",
    "    \n",
    "    with open(json_file_path) as f:\n",
    "        data = json.load(f)\n",
    "         \n",
    "    text_str = ''\n",
    "    text_list = ''\n",
    "    message = data['messages']\n",
    "\n",
    "    for msg in message:\n",
    "\n",
    "        # string text messages\n",
    "        if isinstance(msg['text'], str):\n",
    "            msgs = stopwords_detection(msg['text'], stopwords_file_path)\n",
    "            text_str += f\" {' '.join(msgs)}\"\n",
    "            \n",
    "        # list text messages\n",
    "        elif isinstance(msg['text'], list):\n",
    "            for i in msg['text']:\n",
    "                if isinstance(i, str):\n",
    "                    msgs = stopwords_detection(i, stopwords_file_path)\n",
    "                    text_list += f\" {' '.join(msgs)}\"\n",
    "                else:\n",
    "                    pass\n",
    "\n",
    "    text_content = text_str + ' ' + text_list\n",
    "    return text_content"
   ]
  },
  {
   "cell_type": "code",
   "execution_count": null,
   "id": "46748dc0-b636-43eb-a03a-6c08ef7ef5fb",
   "metadata": {},
   "outputs": [],
   "source": [
    "parse_json(\n",
    "    json_file_path='src/data/CS-Stack.json', \n",
    "    stopwords_file_path='src/data/stopwords.txt'\n",
    ")"
   ]
  },
  {
   "cell_type": "markdown",
   "id": "aaff1d99-eb00-4230-b001-0b5389876e33",
   "metadata": {},
   "source": [
    "### Make a word cloud"
   ]
  },
  {
   "cell_type": "code",
   "execution_count": null,
   "id": "4f8d8215-cdf9-44ae-a45c-e09b17315657",
   "metadata": {},
   "outputs": [],
   "source": [
    "text_content = parse_json(\n",
    "    json_file_path='src/data/CS-Stack.json', \n",
    "    stopwords_file_path='src/data/stopwords.txt'\n",
    ")\n",
    "\n",
    "text_norm = normalizer.normalize(text_content)\n",
    "Counter(word_tokenize(normalizer.normalize(text_content))).most_common()[:10]"
   ]
  },
  {
   "cell_type": "code",
   "execution_count": null,
   "id": "bbf504cc-6b61-4304-9399-ffdb34682b61",
   "metadata": {},
   "outputs": [],
   "source": [
    "text = arabic_reshaper.reshape(text_norm[:500000])\n",
    "text = get_display(text)"
   ]
  },
  {
   "cell_type": "code",
   "execution_count": null,
   "id": "c787b6a9-3e4f-44df-a796-5074a6791252",
   "metadata": {},
   "outputs": [],
   "source": [
    "# def reshaper(text: str):\n",
    "#     \"\"\"\n",
    "#     This function tries to reshape text and display it in three iteration.\n",
    "#     if \"arabic.reshaper\" can't handle vloume of text, each iteration will decrease 30% of text.\n",
    "#     \"\"\"\n",
    "#     try:\n",
    "#         text = arabic_reshaper.reshape(text)\n",
    "#         text = get_display(text)\n",
    "#         print(len(text))\n",
    "#         return text\n",
    "#     except:\n",
    "#         # try:\n",
    "#         # len_text = len(text)\n",
    "#         # decrease_amount = len_text*(0.3)\n",
    "\n",
    "#         new_len = int(len(text) - (0.3*len(text)))\n",
    "#         text = text[:new_len]\n",
    "#         text = arabic_reshaper.reshape(text)\n",
    "#         text = get_display(text)\n",
    "#         print(len(text))\n",
    "#         return text\n",
    "# #         except:\n",
    "# #             try:\n",
    "# #                 len_text = len(text)\n",
    "# #                 decrease_amount = len_text*(6/10)\n",
    "\n",
    "# #                 new_len = int(len_text - decrease_amount)\n",
    "# #                 text = text[:new_len]\n",
    "# #                 text = arabic_reshaper.reshape(text)\n",
    "# #                 text = get_display(text)\n",
    "# #                 print(len(text))\n",
    "# #                 return text\n",
    "# #             except:\n",
    "# #                 try:\n",
    "# #                     len_text = len(text)\n",
    "# #                     decrease_amount = len_text*(8/10)\n",
    "\n",
    "# #                     new_len = int(len_text - decrease_amount)\n",
    "# #                     text = text[:new_len]\n",
    "# #                     text = arabic_reshaper.reshape(text)\n",
    "# #                     text = get_display(text)\n",
    "# #                     print(len(text))\n",
    "# #                     return text\n",
    "# #                 except Exception as e:\n",
    "# #                     return e"
   ]
  },
  {
   "cell_type": "code",
   "execution_count": null,
   "id": "b7b537c5-2649-456d-b941-c27843181a3c",
   "metadata": {},
   "outputs": [],
   "source": [
    "# for i in range(5):\n",
    "#     len_text = len(text_norm)\n",
    "#     decrease_amount = len_text*(i/10)\n",
    "\n",
    "#     new_len = int(len_text - decrease_amount)\n",
    "#     text = text_norm[:new_len]\n",
    "\n",
    "#     print(f\"len_text: {len_text}\")\n",
    "#     print(f\"decreade amount: {decrease_amount}\")\n",
    "#     print(f\"new_len: {len(text)}\")\n",
    "#     print(\"-\"*40)"
   ]
  },
  {
   "cell_type": "code",
   "execution_count": null,
   "id": "e76867d4-d4e6-4d90-b033-ada43f9e9ce3",
   "metadata": {},
   "outputs": [],
   "source": [
    "alice_mask = np.array(Image.open('src/data/python_logo.png'))"
   ]
  },
  {
   "cell_type": "code",
   "execution_count": null,
   "id": "7921a204-03b3-48ff-815d-8900eb840772",
   "metadata": {},
   "outputs": [],
   "source": [
    "wordcloud = WordCloud(\n",
    "    font_path='src/data/Mitra_Bold.ttf',\n",
    "    width=800,\n",
    "    height=400,\n",
    "    background_color='white'\n",
    ").generate(text)\n",
    "\n",
    "import matplotlib.pyplot as plt\n",
    "plt.imshow(wordcloud, interpolation='bilinear')\n",
    "plt.axis(\"off\")"
   ]
  },
  {
   "cell_type": "code",
   "execution_count": null,
   "id": "20790385-59a3-4397-b8ba-29a0247fa493",
   "metadata": {},
   "outputs": [],
   "source": [
    "with open('src/data/text.txt') as f:\n",
    "    text = f.readlines()"
   ]
  },
  {
   "cell_type": "code",
   "execution_count": null,
   "id": "e79462bd-e12b-4c4f-8925-aaaf7a4f6b30",
   "metadata": {},
   "outputs": [],
   "source": [
    "text_c = ''\n",
    "for i in text:\n",
    "    text_c += i"
   ]
  },
  {
   "cell_type": "code",
   "execution_count": null,
   "id": "dbf39e92-a676-4b71-b836-42c3a7868ea3",
   "metadata": {},
   "outputs": [],
   "source": [
    "Counter(text_c.split()).most_common(10)"
   ]
  },
  {
   "cell_type": "code",
   "execution_count": 2,
   "id": "5a39e8e6-dcc9-4042-bd1c-be29b2011805",
   "metadata": {},
   "outputs": [],
   "source": [
    "# test for task"
   ]
  },
  {
   "cell_type": "code",
   "execution_count": 3,
   "id": "b44b49b5-3ecd-4864-8982-9a1333fb4f90",
   "metadata": {},
   "outputs": [],
   "source": [
    "# test"
   ]
  },
  {
   "cell_type": "code",
   "execution_count": null,
   "id": "06d136be-9b20-4cab-9f53-105bb48433aa",
   "metadata": {},
   "outputs": [],
   "source": []
  }
 ],
 "metadata": {
  "kernelspec": {
   "display_name": "Python 3 (ipykernel)",
   "language": "python",
   "name": "python3"
  },
  "language_info": {
   "codemirror_mode": {
    "name": "ipython",
    "version": 3
   },
   "file_extension": ".py",
   "mimetype": "text/x-python",
   "name": "python",
   "nbconvert_exporter": "python",
   "pygments_lexer": "ipython3",
   "version": "3.8.12"
  }
 },
 "nbformat": 4,
 "nbformat_minor": 5
}
