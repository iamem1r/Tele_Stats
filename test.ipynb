{
 "cells": [
  {
   "cell_type": "code",
   "execution_count": 15,
   "id": "70911ede-2315-4537-91db-0a740537eeeb",
   "metadata": {},
   "outputs": [],
   "source": [
    "import json\n",
    "from pathlib import Path\n",
    "from collections import Counter\n",
    "from hazm import word_tokenize, sent_tokenize, Normalizer"
   ]
  },
  {
   "cell_type": "code",
   "execution_count": 3,
   "id": "5c259381-8e4c-4203-83b3-3dd0fbff84d8",
   "metadata": {},
   "outputs": [],
   "source": [
    "with open('src/data/CS-Stack.json') as f:\n",
    "    data = json.load(f)"
   ]
  },
  {
   "cell_type": "code",
   "execution_count": 4,
   "id": "21b7d217-ecfb-47fa-9181-44d8d742b658",
   "metadata": {},
   "outputs": [],
   "source": [
    "message = iter(data['messages'])"
   ]
  },
  {
   "cell_type": "code",
   "execution_count": 7,
   "id": "d50bd8cf-3a15-4110-a3d5-c04581d49e58",
   "metadata": {},
   "outputs": [
    {
     "data": {
      "text/plain": [
       "{'id': 3,\n",
       " 'type': 'message',\n",
       " 'date': '2021-07-06T00:24:45',\n",
       " 'from': 'Sobhan Razyani',\n",
       " 'from_id': 'user72383515',\n",
       " 'text': 'سلام به همه.\\nدوستان پیش\\u200cزمینه\\u200cهای یادگیری پایتون برای کسی که کدنویسی نکرده کلا چیه؟\\nصرفا کلیدواژه می\\u200cخوام که بتونم سرچ کنم. ممنونم ازتون'}"
      ]
     },
     "execution_count": 7,
     "metadata": {},
     "output_type": "execute_result"
    }
   ],
   "source": [
    "next(message)"
   ]
  },
  {
   "cell_type": "code",
   "execution_count": 8,
   "id": "01dcbc17-663b-4972-8925-b175336ef583",
   "metadata": {},
   "outputs": [],
   "source": [
    "text_str = ''\n",
    "text_list = ''\n",
    "message = data['messages']\n",
    "\n",
    "for msg in message:\n",
    "    if isinstance(msg['text'], str):\n",
    "        text_str += f\" {msg['text']}\"\n",
    "    elif isinstance(msg['text'], list):\n",
    "        for i in msg['text']:\n",
    "            if isinstance(i, str):\n",
    "                text_list += f\" {i}\"\n",
    "            else:\n",
    "                pass\n",
    "\n",
    "text_content = text_str + ' ' + text_list"
   ]
  },
  {
   "cell_type": "code",
   "execution_count": 27,
   "id": "4f8d8215-cdf9-44ae-a45c-e09b17315657",
   "metadata": {},
   "outputs": [
    {
     "data": {
      "text/plain": [
       "[('.', 4787),\n",
       " ('رو', 4414),\n",
       " ('و', 4094),\n",
       " ('که', 3342),\n",
       " ('از', 2453),\n",
       " ('به', 2289),\n",
       " ('؟', 2289),\n",
       " ('این', 2208),\n",
       " ('هم', 1847),\n",
       " ('من', 1828)]"
      ]
     },
     "execution_count": 27,
     "metadata": {},
     "output_type": "execute_result"
    }
   ],
   "source": [
    "normalizer = Normalizer()\n",
    "\n",
    "Counter(word_tokenize(normalizer.normalize(text_content))).most_common()[:10]"
   ]
  },
  {
   "cell_type": "code",
   "execution_count": null,
   "id": "c787b6a9-3e4f-44df-a796-5074a6791252",
   "metadata": {},
   "outputs": [],
   "source": []
  }
 ],
 "metadata": {
  "kernelspec": {
   "display_name": "Python 3 (ipykernel)",
   "language": "python",
   "name": "python3"
  },
  "language_info": {
   "codemirror_mode": {
    "name": "ipython",
    "version": 3
   },
   "file_extension": ".py",
   "mimetype": "text/x-python",
   "name": "python",
   "nbconvert_exporter": "python",
   "pygments_lexer": "ipython3",
   "version": "3.8.12"
  }
 },
 "nbformat": 4,
 "nbformat_minor": 5
}
