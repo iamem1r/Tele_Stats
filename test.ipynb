{
 "cells": [
  {
   "cell_type": "code",
   "execution_count": 2,
   "id": "70911ede-2315-4537-91db-0a740537eeeb",
   "metadata": {},
   "outputs": [],
   "source": [
    "import json\n",
    "from pathlib import Path"
   ]
  },
  {
   "cell_type": "code",
   "execution_count": 9,
   "id": "5c259381-8e4c-4203-83b3-3dd0fbff84d8",
   "metadata": {},
   "outputs": [],
   "source": [
    "with open('src/data/CS-Stack.json') as f:\n",
    "    data = json.load(f)"
   ]
  },
  {
   "cell_type": "code",
   "execution_count": 51,
   "id": "21b7d217-ecfb-47fa-9181-44d8d742b658",
   "metadata": {},
   "outputs": [],
   "source": [
    "message = iter(data['messages'])"
   ]
  },
  {
   "cell_type": "code",
   "execution_count": 63,
   "id": "d50bd8cf-3a15-4110-a3d5-c04581d49e58",
   "metadata": {},
   "outputs": [
    {
     "data": {
      "text/plain": [
       "{'id': 23,\n",
       " 'type': 'message',\n",
       " 'date': '2021-07-06T00:27:27',\n",
       " 'from': 'Amir Jalili',\n",
       " 'from_id': 'user1032403991',\n",
       " 'text': [{'type': 'link',\n",
       "   'text': 'https://youtube.com/playlist?list=PL-tKrPVkKKE1Y_o_h2w85dzVdoX5t7SI0'}]}"
      ]
     },
     "execution_count": 63,
     "metadata": {},
     "output_type": "execute_result"
    }
   ],
   "source": [
    "next(message)"
   ]
  },
  {
   "cell_type": "code",
   "execution_count": 79,
   "id": "01dcbc17-663b-4972-8925-b175336ef583",
   "metadata": {},
   "outputs": [],
   "source": [
    "text_str = ''\n",
    "text_list = ''\n",
    "message = data['messages']\n",
    "\n",
    "for msg in message:\n",
    "    if isinstance(msg['text'], str):\n",
    "        text_str += msg['text']\n",
    "    elif isinstance(msg['text'], list):\n",
    "        for i in msg['text']:\n",
    "            if isinstance(i, str):\n",
    "                text_list += i\n",
    "            else:\n",
    "                pass\n",
    "\n",
    "text_content = text_str + ' ' + text_list"
   ]
  },
  {
   "cell_type": "code",
   "execution_count": 77,
   "id": "45adfe25-3e26-41aa-89bc-b3af58211f4d",
   "metadata": {},
   "outputs": [
    {
     "data": {
      "text/plain": [
       "'آقای حجازی سلام به هم'"
      ]
     },
     "execution_count": 77,
     "metadata": {},
     "output_type": "execute_result"
    }
   ],
   "source": []
  },
  {
   "cell_type": "code",
   "execution_count": null,
   "id": "c787b6a9-3e4f-44df-a796-5074a6791252",
   "metadata": {},
   "outputs": [],
   "source": []
  }
 ],
 "metadata": {
  "kernelspec": {
   "display_name": "Python 3 (ipykernel)",
   "language": "python",
   "name": "python3"
  },
  "language_info": {
   "codemirror_mode": {
    "name": "ipython",
    "version": 3
   },
   "file_extension": ".py",
   "mimetype": "text/x-python",
   "name": "python",
   "nbconvert_exporter": "python",
   "pygments_lexer": "ipython3",
   "version": "3.8.12"
  }
 },
 "nbformat": 4,
 "nbformat_minor": 5
}
